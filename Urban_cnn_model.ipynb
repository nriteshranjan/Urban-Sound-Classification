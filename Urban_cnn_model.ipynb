{
 "cells": [
  {
   "cell_type": "code",
   "execution_count": 1,
   "metadata": {
    "colab": {},
    "colab_type": "code",
    "id": "tA_zGJTRf_gC"
   },
   "outputs": [],
   "source": [
    "import numpy as np\n",
    "import matplotlib.pyplot as plt\n",
    "import tensorflow as tf"
   ]
  },
  {
   "cell_type": "code",
   "execution_count": 2,
   "metadata": {
    "colab": {},
    "colab_type": "code",
    "id": "5uRr-bWZWzAD"
   },
   "outputs": [],
   "source": [
    "#extracting data from csv files into numpy arrays\n",
    "from numpy import genfromtxt\n",
    "x_train = genfromtxt('train_data.csv', delimiter=',')\n",
    "y_train = genfromtxt('train_labels.csv', delimiter=',')\n",
    "x_test = genfromtxt('test_data.csv', delimiter=',')\n",
    "y_test = genfromtxt('test_labels.csv', delimiter=',')"
   ]
  },
  {
   "cell_type": "code",
   "execution_count": 3,
   "metadata": {
    "colab": {
     "base_uri": "https://localhost:8080/",
     "height": 34
    },
    "colab_type": "code",
    "id": "sUE1btJWW3bw",
    "outputId": "f74bc8b1-fee5-4efd-b851-b2337f69afb9"
   },
   "outputs": [
    {
     "data": {
      "text/plain": [
       "((7895, 200), (837, 200), (7895,), (837,))"
      ]
     },
     "execution_count": 3,
     "metadata": {},
     "output_type": "execute_result"
    }
   ],
   "source": [
    "#shape\n",
    "x_train.shape,x_test.shape,y_train.shape,y_test.shape"
   ]
  },
  {
   "cell_type": "code",
   "execution_count": 4,
   "metadata": {
    "colab": {
     "base_uri": "https://localhost:8080/",
     "height": 34
    },
    "colab_type": "code",
    "id": "UDbtZ-GaXEXS",
    "outputId": "50df72f3-2b7e-45b7-ea23-80e5aaca1743"
   },
   "outputs": [
    {
     "data": {
      "text/plain": [
       "((7895, 10), (837, 10))"
      ]
     },
     "execution_count": 4,
     "metadata": {},
     "output_type": "execute_result"
    }
   ],
   "source": [
    "#converting to one hot\n",
    "from keras.utils.np_utils import to_categorical\n",
    "y_train = to_categorical(y_train, num_classes=10)\n",
    "y_test = to_categorical(y_test, num_classes=10)\n",
    "y_train.shape,y_test.shape"
   ]
  },
  {
   "cell_type": "code",
   "execution_count": 5,
   "metadata": {
    "colab": {
     "base_uri": "https://localhost:8080/",
     "height": 34
    },
    "colab_type": "code",
    "id": "Q53NwQLeYJSf",
    "outputId": "b4359c57-b041-4e06-e40f-c671eb33a882"
   },
   "outputs": [
    {
     "data": {
      "text/plain": [
       "((7895, 40, 5), (837, 40, 5))"
      ]
     },
     "execution_count": 5,
     "metadata": {},
     "output_type": "execute_result"
    }
   ],
   "source": [
    "#reshaping to 2D \n",
    "x_train=np.reshape(x_train,(x_train.shape[0], 40,5))\n",
    "x_test=np.reshape(x_test,(x_test.shape[0], 40,5))\n",
    "x_train.shape,x_test.shape"
   ]
  },
  {
   "cell_type": "code",
   "execution_count": 6,
   "metadata": {
    "colab": {},
    "colab_type": "code",
    "id": "15K2y9sUgn_L"
   },
   "outputs": [],
   "source": [
    "#reshaping to shape required by CNN\n",
    "x_train=np.reshape(x_train,(x_train.shape[0], 40,5,1))\n",
    "x_test=np.reshape(x_test,(x_test.shape[0], 40,5,1))"
   ]
  },
  {
   "cell_type": "code",
   "execution_count": 7,
   "metadata": {
    "colab": {
     "base_uri": "https://localhost:8080/",
     "height": 34
    },
    "colab_type": "code",
    "id": "CgeQAvcdgtwn",
    "outputId": "fb3d635b-1da0-4c3d-f17f-50c9619cf9da"
   },
   "outputs": [
    {
     "data": {
      "text/plain": [
       "((7895, 40, 5, 1), (837, 40, 5, 1))"
      ]
     },
     "execution_count": 7,
     "metadata": {},
     "output_type": "execute_result"
    }
   ],
   "source": [
    "#shapes\n",
    "x_train.shape,x_test.shape"
   ]
  },
  {
   "cell_type": "code",
   "execution_count": 8,
   "metadata": {
    "colab": {},
    "colab_type": "code",
    "id": "3bQ2gHc8f9n4"
   },
   "outputs": [],
   "source": [
    "from keras import Sequential\n",
    "from keras.layers import Dense,Conv2D,MaxPooling2D,Flatten,Dropout"
   ]
  },
  {
   "cell_type": "code",
   "execution_count": 9,
   "metadata": {
    "colab": {},
    "colab_type": "code",
    "id": "SyjNa0N0gGlY"
   },
   "outputs": [],
   "source": [
    "#forming model\n",
    "model=Sequential()"
   ]
  },
  {
   "cell_type": "code",
   "execution_count": 10,
   "metadata": {
    "colab": {},
    "colab_type": "code",
    "id": "fUJUiyVTgkGZ"
   },
   "outputs": [],
   "source": [
    "#adding layers and forming the model\n",
    "model.add(Conv2D(64,kernel_size=5,strides=1,padding=\"Same\",activation=\"relu\",input_shape=(40,5,1)))\n",
    "model.add(MaxPooling2D(padding=\"same\"))\n",
    "\n",
    "model.add(Conv2D(128,kernel_size=5,strides=1,padding=\"same\",activation=\"relu\"))\n",
    "model.add(MaxPooling2D(padding=\"same\"))\n",
    "model.add(Dropout(0.3))\n",
    "\n",
    "model.add(Flatten())\n",
    "\n",
    "model.add(Dense(256,activation=\"relu\"))\n",
    "model.add(Dropout(0.3))\n",
    "\n",
    "model.add(Dense(512,activation=\"relu\"))\n",
    "model.add(Dropout(0.3))\n",
    "\n",
    "model.add(Dense(10,activation=\"softmax\"))"
   ]
  },
  {
   "cell_type": "code",
   "execution_count": 11,
   "metadata": {
    "colab": {},
    "colab_type": "code",
    "id": "ZHek_bnng3xp"
   },
   "outputs": [],
   "source": [
    "#compiling\n",
    "model.compile(optimizer=\"adam\",loss=\"categorical_crossentropy\",metrics=[\"accuracy\"])"
   ]
  },
  {
   "cell_type": "code",
   "execution_count": 12,
   "metadata": {
    "colab": {
     "base_uri": "https://localhost:8080/",
     "height": 1091
    },
    "colab_type": "code",
    "id": "Hc_E0cTog96t",
    "outputId": "4fb76b2e-08bc-4a38-d574-79490df067f5"
   },
   "outputs": [
    {
     "name": "stdout",
     "output_type": "stream",
     "text": [
      "Epoch 1/30\n",
      "158/158 [==============================] - 9s 58ms/step - loss: 1.9748 - accuracy: 0.3058 - val_loss: 1.6031 - val_accuracy: 0.4791\n",
      "Epoch 2/30\n",
      "158/158 [==============================] - 10s 60ms/step - loss: 1.3557 - accuracy: 0.5311 - val_loss: 1.2692 - val_accuracy: 0.5890\n",
      "Epoch 3/30\n",
      "158/158 [==============================] - 9s 58ms/step - loss: 1.0747 - accuracy: 0.6366 - val_loss: 1.1901 - val_accuracy: 0.6511\n",
      "Epoch 4/30\n",
      "158/158 [==============================] - 8s 51ms/step - loss: 0.9086 - accuracy: 0.6916 - val_loss: 1.1584 - val_accuracy: 0.6189\n",
      "Epoch 5/30\n",
      "158/158 [==============================] - 8s 50ms/step - loss: 0.7806 - accuracy: 0.7362 - val_loss: 1.0618 - val_accuracy: 0.6476\n",
      "Epoch 6/30\n",
      "158/158 [==============================] - 8s 50ms/step - loss: 0.7059 - accuracy: 0.7662 - val_loss: 1.1244 - val_accuracy: 0.6667\n",
      "Epoch 7/30\n",
      "158/158 [==============================] - 8s 53ms/step - loss: 0.6331 - accuracy: 0.7901 - val_loss: 1.0180 - val_accuracy: 0.6965\n",
      "Epoch 8/30\n",
      "158/158 [==============================] - 9s 60ms/step - loss: 0.5754 - accuracy: 0.8124 - val_loss: 0.9818 - val_accuracy: 0.6858\n",
      "Epoch 9/30\n",
      "158/158 [==============================] - 8s 51ms/step - loss: 0.5329 - accuracy: 0.8248 - val_loss: 1.0392 - val_accuracy: 0.7037\n",
      "Epoch 10/30\n",
      "158/158 [==============================] - 8s 54ms/step - loss: 0.4866 - accuracy: 0.8423 - val_loss: 1.1392 - val_accuracy: 0.6798\n",
      "Epoch 11/30\n",
      "158/158 [==============================] - 8s 48ms/step - loss: 0.4656 - accuracy: 0.8436 - val_loss: 1.0726 - val_accuracy: 0.6655\n",
      "Epoch 12/30\n",
      "158/158 [==============================] - 8s 48ms/step - loss: 0.4277 - accuracy: 0.8578 - val_loss: 1.1956 - val_accuracy: 0.6619\n",
      "Epoch 13/30\n",
      "158/158 [==============================] - 7s 47ms/step - loss: 0.4454 - accuracy: 0.8554 - val_loss: 1.1003 - val_accuracy: 0.6989\n",
      "Epoch 14/30\n",
      "158/158 [==============================] - 8s 48ms/step - loss: 0.4001 - accuracy: 0.8756 - val_loss: 1.0002 - val_accuracy: 0.7025\n",
      "Epoch 15/30\n",
      "158/158 [==============================] - 8s 48ms/step - loss: 0.3505 - accuracy: 0.8826 - val_loss: 1.0065 - val_accuracy: 0.7145\n",
      "Epoch 16/30\n",
      "158/158 [==============================] - 7s 47ms/step - loss: 0.3410 - accuracy: 0.8882 - val_loss: 1.0442 - val_accuracy: 0.6762\n",
      "Epoch 17/30\n",
      "158/158 [==============================] - 7s 47ms/step - loss: 0.3485 - accuracy: 0.8828 - val_loss: 0.9307 - val_accuracy: 0.6894\n",
      "Epoch 18/30\n",
      "158/158 [==============================] - 7s 47ms/step - loss: 0.3292 - accuracy: 0.8945 - val_loss: 1.2391 - val_accuracy: 0.6906\n",
      "Epoch 19/30\n",
      "158/158 [==============================] - 7s 47ms/step - loss: 0.3180 - accuracy: 0.8945 - val_loss: 1.1387 - val_accuracy: 0.7109\n",
      "Epoch 20/30\n",
      "158/158 [==============================] - 8s 51ms/step - loss: 0.3193 - accuracy: 0.8974 - val_loss: 1.2470 - val_accuracy: 0.6941\n",
      "Epoch 21/30\n",
      "158/158 [==============================] - 9s 55ms/step - loss: 0.2879 - accuracy: 0.9026 - val_loss: 1.1417 - val_accuracy: 0.6918\n",
      "Epoch 22/30\n",
      "158/158 [==============================] - 11s 69ms/step - loss: 0.2968 - accuracy: 0.9064 - val_loss: 1.0525 - val_accuracy: 0.7001\n",
      "Epoch 23/30\n",
      "158/158 [==============================] - 10s 63ms/step - loss: 0.2350 - accuracy: 0.9235 - val_loss: 1.2552 - val_accuracy: 0.7073\n",
      "Epoch 24/30\n",
      "158/158 [==============================] - 8s 50ms/step - loss: 0.2785 - accuracy: 0.9075 - val_loss: 1.1599 - val_accuracy: 0.7264\n",
      "Epoch 25/30\n",
      "158/158 [==============================] - 8s 50ms/step - loss: 0.2714 - accuracy: 0.9126 - val_loss: 1.0353 - val_accuracy: 0.7180\n",
      "Epoch 26/30\n",
      "158/158 [==============================] - 8s 50ms/step - loss: 0.2429 - accuracy: 0.9234 - val_loss: 1.2580 - val_accuracy: 0.7049\n",
      "Epoch 27/30\n",
      "158/158 [==============================] - 8s 51ms/step - loss: 0.2598 - accuracy: 0.9230 - val_loss: 1.1638 - val_accuracy: 0.6918\n",
      "Epoch 28/30\n",
      "158/158 [==============================] - 9s 56ms/step - loss: 0.2207 - accuracy: 0.9275 - val_loss: 1.2124 - val_accuracy: 0.7145\n",
      "Epoch 29/30\n",
      "158/158 [==============================] - 9s 59ms/step - loss: 0.2148 - accuracy: 0.9320 - val_loss: 1.3947 - val_accuracy: 0.6499\n",
      "Epoch 30/30\n",
      "158/158 [==============================] - 9s 54ms/step - loss: 0.2323 - accuracy: 0.9215 - val_loss: 1.2035 - val_accuracy: 0.7025\n"
     ]
    }
   ],
   "source": [
    "#training the model\n",
    "history=model.fit(x_train,y_train,batch_size=50,epochs=30,validation_data=(x_test,y_test))"
   ]
  },
  {
   "cell_type": "code",
   "execution_count": 13,
   "metadata": {
    "colab": {
     "base_uri": "https://localhost:8080/",
     "height": 85
    },
    "colab_type": "code",
    "id": "N1Rp9FTYhBpZ",
    "outputId": "8ac2e5be-314a-4284-ea31-ddbfeda1d4de"
   },
   "outputs": [
    {
     "name": "stdout",
     "output_type": "stream",
     "text": [
      "247/247 [==============================] - 2s 8ms/step - loss: 0.0740 - accuracy: 0.9777\n",
      "27/27 [==============================] - 0s 8ms/step - loss: 1.2035 - accuracy: 0.7025\n",
      "[0.07395824790000916, 0.9777073860168457]\n",
      "[1.2034995555877686, 0.7025089859962463]\n"
     ]
    }
   ],
   "source": [
    "#train and test loss and scores respectively\n",
    "train_loss_score=model.evaluate(x_train,y_train)\n",
    "test_loss_score=model.evaluate(x_test,y_test)\n",
    "print(train_loss_score)\n",
    "print(test_loss_score)"
   ]
  },
  {
   "cell_type": "code",
   "execution_count": 14,
   "metadata": {},
   "outputs": [
    {
     "name": "stdout",
     "output_type": "stream",
     "text": [
      "        loss  accuracy  val_loss  val_accuracy  epoch\n",
      "0   1.974766  0.305763  1.603146      0.479092      0\n",
      "1   1.355652  0.531096  1.269217      0.589008      1\n",
      "2   1.074702  0.636605  1.190107      0.651135      2\n",
      "3   0.908569  0.691577  1.158386      0.618877      3\n",
      "4   0.780556  0.736162  1.061792      0.647551      4\n",
      "5   0.705923  0.766181  1.124439      0.666667      5\n",
      "6   0.633138  0.790120  1.017970      0.696535      6\n",
      "7   0.575415  0.812413  0.981827      0.685783      7\n",
      "8   0.532876  0.824826  1.039200      0.703704      8\n",
      "9   0.486632  0.842305  1.139180      0.679809      9\n",
      "10  0.465577  0.843572  1.072610      0.665472     10\n",
      "11  0.427657  0.857758  1.195615      0.661888     11\n",
      "12  0.445410  0.855352  1.100330      0.698925     12\n",
      "13  0.400134  0.875618  1.000165      0.702509     13\n",
      "14  0.350540  0.882584  1.006548      0.714456     14\n",
      "15  0.341048  0.888157  1.044217      0.676225     15\n",
      "16  0.348453  0.882837  0.930683      0.689367     16\n",
      "17  0.329175  0.894490  1.239078      0.690562     17\n",
      "18  0.318000  0.894490  1.138711      0.710872     18\n",
      "19  0.319269  0.897403  1.246992      0.694146     19\n",
      "20  0.287888  0.902597  1.141733      0.691756     20\n",
      "21  0.296791  0.906396  1.052516      0.700119     21\n",
      "22  0.234972  0.923496  1.255247      0.707288     22\n",
      "23  0.278536  0.907536  1.159909      0.726404     23\n",
      "24  0.271400  0.912603  1.035300      0.718041     24\n",
      "25  0.242855  0.923369  1.258044      0.704898     25\n",
      "26  0.259848  0.922989  1.163778      0.691756     26\n",
      "27  0.220742  0.927549  1.212363      0.714456     27\n",
      "28  0.214817  0.931982  1.394671      0.649940     28\n",
      "29  0.232280  0.921469  1.203499      0.702509     29\n",
      "<class 'pandas.core.frame.DataFrame'>\n"
     ]
    }
   ],
   "source": [
    "import pandas as pd\n",
    "hist=pd.DataFrame(history.history)\n",
    "hist['epoch']=history.epoch\n",
    "# hist.tail()\n",
    "print(hist)\n",
    "print(type(hist))"
   ]
  },
  {
   "cell_type": "code",
   "execution_count": 15,
   "metadata": {},
   "outputs": [
    {
     "data": {
      "image/png": "[encoded data removed]",
      "text/plain": [
       "<Figure size 720x504 with 1 Axes>"
      ]
     },
     "metadata": {
      "needs_background": "light"
     },
     "output_type": "display_data"
    }
   ],
   "source": [
    "train_acc=hist['accuracy']\n",
    "val_acc = hist['val_accuracy']\n",
    "\n",
    "# Set figure size.\n",
    "plt.figure(figsize=(10, 7))\n",
    "\n",
    "# Generate line plot of training, testing loss over epochs.\n",
    "plt.plot(train_acc, label='Training Accuracy', color='blue')\n",
    "plt.plot(val_acc, label='Validation Accuracy', color='red')\n",
    "\n",
    "# Set title\n",
    "plt.title('Training and Validation Accuracy', fontsize = 21)\n",
    "plt.xlabel('Epoch', fontsize = 15)\n",
    "plt.legend(fontsize = 15)\n",
    "plt.ylabel('Accuracy', fontsize = 15)\n",
    "plt.xticks(range(0,30,5), range(0,30,5));\n"
   ]
  },
  {
   "cell_type": "code",
   "execution_count": 16,
   "metadata": {},
   "outputs": [
    {
     "data": {
      "image/png": "[encoded data removed]",
      "text/plain": [
       "<Figure size 720x504 with 1 Axes>"
      ]
     },
     "metadata": {
      "needs_background": "light"
     },
     "output_type": "display_data"
    }
   ],
   "source": [
    "\n",
    "train_loss=hist['loss']\n",
    "val_loss=hist['val_loss']\n",
    "plt.figure(figsize=(10, 7))\n",
    "plt.plot(train_loss, label='Training Loss',color='blue')\n",
    "plt.plot(val_loss, label='Validation Loss',color='green')\n",
    "plt.title('Training and Validation Loss', fontsize=21)\n",
    "plt.xlabel('Epoch',fontsize=15)\n",
    "plt.legend(fontsize = 15)\n",
    "plt.ylabel('Loss', fontsize = 15)\n",
    "plt.xticks(range(0,30,5), range(0,30,5));"
   ]
  },
  {
   "cell_type": "code",
   "execution_count": null,
   "metadata": {},
   "outputs": [],
   "source": []
  }
 ],
 "metadata": {
  "accelerator": "GPU",
  "colab": {
   "collapsed_sections": [],
   "name": "Urban_cnn_model.ipynb",
   "provenance": [],
   "version": "0.3.2"
  },
  "kernelspec": {
   "display_name": "Python 3",
   "language": "python",
   "name": "python3"
  },
  "language_info": {
   "codemirror_mode": {
    "name": "ipython",
    "version": 3
   },
   "file_extension": ".py",
   "mimetype": "text/x-python",
   "name": "python",
   "nbconvert_exporter": "python",
   "pygments_lexer": "ipython3",
   "version": "3.8.3"
  }
 },
 "nbformat": 4,
 "nbformat_minor": 1
}
